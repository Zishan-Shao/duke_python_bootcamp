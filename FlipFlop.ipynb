{
  "nbformat": 4,
  "nbformat_minor": 0,
  "metadata": {
    "colab": {
      "provenance": [],
      "collapsed_sections": [
        "6-GIPbRxhK5q"
      ],
      "include_colab_link": true
    },
    "kernelspec": {
      "name": "python3",
      "display_name": "Python 3"
    },
    "language_info": {
      "name": "python"
    }
  },
  "cells": [
    {
      "cell_type": "markdown",
      "metadata": {
        "id": "view-in-github",
        "colab_type": "text"
      },
      "source": [
        "<a href=\"https://colab.research.google.com/github/Zishan-Shao/duke_python_bootcamp/blob/main/FlipFlop.ipynb\" target=\"_parent\"><img src=\"https://colab.research.google.com/assets/colab-badge.svg\" alt=\"Open In Colab\"/></a>"
      ]
    },
    {
      "cell_type": "markdown",
      "source": [
        "The following is a case study testing a large range of skills we have used in the bootcamp. It is very open-ended so many solutions are possible. If you have no idea how to start, that is fine; the school year hasn't even started yet! This case study is meant to allow you to focus on which skills from the bootcamp you are most interested or would like the most review. It will help to write some ideas on paper first before writing any code. You can research as much as you'd like to solve the problem."
      ],
      "metadata": {
        "id": "cdYG0yiHZZyq"
      }
    },
    {
      "cell_type": "markdown",
      "source": [
        "# Data Generating Process (Optional)\n",
        "\n",
        "Below is the code used to generate the data for this case study. This code is essentially an answer key as it describes the distribution of the data completely. I would recommend trying to do the case study first, but feel free to read this code if you are stuck, want some initial inspiration, or just want to learn a bit more Python. To easily hide this entire section, click the arrow next to **Data Generating Process**."
      ],
      "metadata": {
        "id": "FjjZDhqjYQKA"
      }
    },
    {
      "cell_type": "code",
      "source": [
        "import numpy as np\n",
        "\n",
        "INTERESTS = \"\"\"Abjure\tFuture\tPicnic\n",
        "Agonistic\tGarland\tProtect\n",
        "Airline\tGigantic\tPublish\n",
        "Bandit\tGoofy\tQuadrangle\n",
        "Banquet\tGovernment\tRecount\n",
        "Binoculars\tGrandnieces\tRedoubtable\n",
        "Biologist\tHandbook\tReflection\n",
        "Blackboard\tHimself\tReporter\n",
        "Board\tIndulge\tRing\n",
        "Bookworm\tInflatable\tSalesclerk\n",
        "Butterscotch\tInimical\tSnapshot\n",
        "Camera\tInterim\tShellfish\n",
        "Campus\tInvest\tShip\n",
        "Catfish\tJackpot\tSignificance\n",
        "Carsick\tKitchenette\tSometimes\n",
        "Celebrate\tLaw\tSublime\n",
        "Celery\tLife\tTabletop\n",
        "Citizen\tLifeline\tTeamwork\n",
        "Coloring\tLove\tTennis\n",
        "Compact\tMagnificent\tTimesaving\n",
        "Dark\tMalevolence\tTree\n",
        "Damage\tMan\tTermination\n",
        "Dangerous\tMascot\tUnderestimate\n",
        "Decorum\tMarshmallow\tVineyard\n",
        "Endorse\tMine\tWar\n",
        "Engender\tMoonwalk\tWay\n",
        "Erratic\tNear\tWealth\n",
        "Envelope\tNephogram\tWednesday\n",
        "Etymology\tNewborn\tWorld\n",
        "Eyewitness\tNoisome\tXerox\n",
        "Eulogy\tOwl\tYou\n",
        "Fish\tParenthesis\tZestful\n",
        "Food\tPerpetrator\n",
        "Foreclose\tPhone\"\"\"\n",
        "\n",
        "rng = np.random.default_rng(2023)\n",
        "\n",
        "INTERESTS = INTERESTS.replace(\"\\n\", \" \").replace(\"\\t\", \" \").split(\" \")\n",
        "\n",
        "rng.shuffle(INTERESTS)\n",
        "\n",
        "INTERESTS = INTERESTS[:40]\n",
        "\n",
        "STOPWORDS = \"\"\"i\n",
        "me\n",
        "my\n",
        "myself\n",
        "it\n",
        "its\n",
        "itself\n",
        "this\n",
        "that\n",
        "these\n",
        "those\n",
        "am\n",
        "is\n",
        "are\n",
        "was\n",
        "were\n",
        "\"\"\".split(\"\\n\")\n"
      ],
      "metadata": {
        "id": "N9vm8oCgkDcF"
      },
      "execution_count": 3,
      "outputs": []
    },
    {
      "cell_type": "code",
      "source": [
        "import numpy as np\n",
        "from datetime import datetime\n",
        "\n",
        "def generate_user(id):\n",
        "  to_return = {\"ID\": id}\n",
        "  to_return[\"Age\"] = -1 if rng.random() < 0.2 else rng.integers(18, 60)\n",
        "  # The below line of code is bad, but try to understand what it does\n",
        "  to_return[\"Gender\"] = -1 if rng.random() < 0.1 else (\"M\" if rng.random() < 0.5 else \"F\")\n",
        "  to_return[\"Date\"] = datetime.fromtimestamp(rng.integers(1674843213, 1690481613))\n",
        "  probs = np.full(10, 5, dtype=np.double)\n",
        "  probs[0] = 1\n",
        "  probs[1] = to_return[\"Age\"] if to_return[\"Age\"] > 0 else rng.integers(18, 60)\n",
        "  probs[2] = to_return[\"Date\"].timestamp() / 1e9\n",
        "  probs[3] = (61 - to_return[\"Age\"])\n",
        "  probs[4] = (40 - to_return[\"Age\"]) ** 2\n",
        "  probs[5] = 0 if to_return[\"Gender\"] == \"M\" else 50\n",
        "  probs[6] = 50 if to_return[\"Gender\"] == \"M\" and to_return[\"Age\"] > 30 else 0\n",
        "  probs /= probs.sum()\n",
        "  inv_probs = 1/(probs + 0.1)\n",
        "  inv_probs /= inv_probs.sum()\n",
        "  to_return[\"Interest1\"] = rng.choice(INTERESTS[:10], p = probs)\n",
        "  to_return[\"NonInterest1\"] = rng.choice(INTERESTS[:10], p = inv_probs)\n",
        "  more_probs = np.full(40, 5, dtype=np.double)\n",
        "  more_probs[:10] = probs\n",
        "  more_probs /= more_probs.sum()\n",
        "  to_return[\"Bio\"] = \" \".join(map(lambda words: f\"{words[0]} {words[1]}\",\n",
        "      zip(rng.choice(INTERESTS, p = more_probs, size=15),\n",
        "          rng.choice(STOPWORDS, size=15))))\n",
        "\n",
        "  return to_return\n",
        "\n",
        "\n",
        "def generate_video(id, user):\n",
        "  to_return = {\"ID\": id}\n",
        "  to_return[\"Duration\"] = np.clip(3, 60, rng.gamma(2, 15))\n",
        "  to_return[\"User\"] = user[\"ID\"]\n",
        "  to_return[\"Description\"] = \" \".join(rng.choice(user[\"Bio\"].split(\" \"), size=20))\n",
        "  for useless_category in range(5, 21):\n",
        "    to_return[f\"Category_{useless_category}\"] = rng.choice(list(\"ABC\"))\n",
        "\n",
        "  to_return[f\"Category_1\"] = \"A\" if rng.random() < 0.8 and user[\"Gender\"] == \"M\" else \"B\"\n",
        "  to_return[f\"Category_2\"] = \"A\" if rng.random() < 0.7 and user[\"Age\"] > 30 else \"B\"\n",
        "  to_return[f\"Category_3\"] = \"A\" if user[\"Age\"] > 30 and user[\"Gender\"] == \"F\" else rng.choice(list(\"BC\"))\n",
        "\n",
        "  for useless_continuous in range(5, 27):\n",
        "    to_return[f\"Continuous_{useless_continuous}\"] = rng.normal(0, 2)\n",
        "\n",
        "  to_return[\"Continous_1\"] = user[\"Date\"].timestamp() / 1e10 * rng.random() + (1 if user[\"Gender\"] != \"F\" else -1)\n",
        "  to_return[\"Continous_2\"] = np.random.normal() + (1.5 if user[\"Age\"] < 30 else 0)\n",
        "  to_return[\"Continous_3\"] = np.random.normal() + (1.5 if user[\"Age\"] > 40 else 0)\n",
        "  to_return[\"Continous_4\"] = np.random.normal() + (1 if user[\"Age\"] > 40 else 0)\n",
        "\n",
        "  to_return[f\"Category_4\"] = \"A\" if to_return[\"Continous_1\"] > 0 else \"B\"\n",
        "\n",
        "  return to_return\n",
        "\n",
        "def generate_engagement(user, video):\n",
        "  if video[\"User\"] == user[\"ID\"]:\n",
        "      user[f\"{video['ID']}_watched\"] = 1\n",
        "      user[f\"{video['ID']}_liked\"] = 1\n",
        "      user[f\"{video['ID']}_shared\"] = 1\n",
        "      user[f\"{video['ID']}_commented\"] = 1\n",
        "      return\n",
        "\n",
        "  user[f\"{video['ID']}_seen\"] = int(rng.random() < np.clip(1.5 * (user[\"Date\"].timestamp() - 1674843213) / (1690481613 - 1674843213), 0, 0.9))\n",
        "\n",
        "  if not user[f\"{video['ID']}_seen\"]:\n",
        "      user[f\"{video['ID']}_watched\"] = 0\n",
        "      user[f\"{video['ID']}_liked\"] = 0\n",
        "      user[f\"{video['ID']}_shared\"] = 0\n",
        "      user[f\"{video['ID']}_commented\"] = 0\n",
        "      return\n",
        "\n",
        "  if INTERESTS[10] in video[\"Description\"]:\n",
        "    user[f\"{video['ID']}_watched\"] = 0.9 + rng.random() * 0.1\n",
        "    user[f\"{video['ID']}_liked\"] = 1 if rng.random() < 0.8 else 0\n",
        "    user[f\"{video['ID']}_shared\"] = 1 if rng.random() < 0.4 else 0\n",
        "    user[f\"{video['ID']}_commented\"] = 1 if rng.random() < 0.4 else 0\n",
        "\n",
        "  overlaps = set(video[\"Description\"].split(\" \")).intersection(user[\"Bio\"].split(\" \"))\n",
        "  overlaps = overlaps - set(STOPWORDS)\n",
        "\n",
        "  if len(overlaps) > 6:\n",
        "    user[f\"{video['ID']}_watched\"] = 0.8 + rng.random() * 0.2\n",
        "    user[f\"{video['ID']}_liked\"] = 1 if rng.random() < 0.9 else 0\n",
        "    user[f\"{video['ID']}_shared\"] = 1 if rng.random() < 0.8 else 0\n",
        "    user[f\"{video['ID']}_commented\"] = 1 if rng.random() < 0.4 else 0\n",
        "\n",
        "  elif video[\"Category_1\"] == \"A\" and len(overlaps) > 3:\n",
        "    user[f\"{video['ID']}_watched\"] = 0.8 + rng.random() * 0.2\n",
        "    user[f\"{video['ID']}_liked\"] = 1 if rng.random() < 0.9 else 0\n",
        "    user[f\"{video['ID']}_shared\"] = 1 if rng.random() < 0.8 else 0\n",
        "    user[f\"{video['ID']}_commented\"] = 1 if rng.random() < 0.4 else 0\n",
        "\n",
        "  elif video[\"Category_2\"] == \"A\" and len(overlaps) > 2:\n",
        "    user[f\"{video['ID']}_watched\"] = 0.8 + rng.random() * 0.2\n",
        "    user[f\"{video['ID']}_liked\"] = 1 if rng.random() < 0.9 else 0\n",
        "    user[f\"{video['ID']}_shared\"] = 1 if rng.random() < 0.8 else 0\n",
        "    user[f\"{video['ID']}_commented\"] = 1 if rng.random() < 0.4 else 0\n",
        "\n",
        "  elif video[\"Category_3\"] == \"A\" and len(overlaps) > 2:\n",
        "    user[f\"{video['ID']}_watched\"] = 0.8 + rng.random() * 0.2\n",
        "    user[f\"{video['ID']}_liked\"] = 1 if rng.random() < 0.9 else 0\n",
        "    user[f\"{video['ID']}_shared\"] = 1 if rng.random() < 0.8 else 0\n",
        "    user[f\"{video['ID']}_commented\"] = 1 if rng.random() < 0.4 else 0\n",
        "\n",
        "  elif video[\"Continous_2\"] > 1.5:\n",
        "    user[f\"{video['ID']}_watched\"] = 0.8 + rng.random() * 0.2\n",
        "    user[f\"{video['ID']}_liked\"] = 1 if rng.random() < 0.05 else 0\n",
        "    user[f\"{video['ID']}_shared\"] = 1 if rng.random() < 0.1 else 0\n",
        "    user[f\"{video['ID']}_commented\"] = 1 if rng.random() < 0.5 else 0\n",
        "\n",
        "  elif video[\"Continous_3\"] + video[\"Continous_1\"] > 1.5:\n",
        "    user[f\"{video['ID']}_watched\"] = 0.01 + rng.random() * 0.4\n",
        "    if user[f\"{video['ID']}_watched\"] > 0.3:\n",
        "      user[f\"{video['ID']}_liked\"] = 1 if rng.random() < 0.05 else 0\n",
        "      user[f\"{video['ID']}_shared\"] = 1 if rng.random() < 0.05 else 0\n",
        "      user[f\"{video['ID']}_commented\"] = 1 if rng.random() < 0.05 else 0\n",
        "    else:\n",
        "      user[f\"{video['ID']}_liked\"] = 0\n",
        "      user[f\"{video['ID']}_shared\"] = 0\n",
        "      user[f\"{video['ID']}_commented\"] = 0\n",
        "\n",
        "  elif len(overlaps) == 0:\n",
        "    user[f\"{video['ID']}_watched\"] = 0.01 + rng.random() * 0.99\n",
        "\n",
        "    if user[f\"{video['ID']}_watched\"] > 0.3:\n",
        "      user[f\"{video['ID']}_liked\"] = 1 if rng.random() < 0.15 else 0\n",
        "      user[f\"{video['ID']}_shared\"] = 1 if rng.random() < 0.15 else 0\n",
        "      user[f\"{video['ID']}_commented\"] = 1 if rng.random() < 0.15 else 0\n",
        "    else:\n",
        "      user[f\"{video['ID']}_liked\"] = 0\n",
        "      user[f\"{video['ID']}_shared\"] = 0\n",
        "      user[f\"{video['ID']}_commented\"] = 0\n",
        "\n",
        "  else:\n",
        "    user[f\"{video['ID']}_watched\"] = 0.3 + rng.random() * 0.7\n",
        "    user[f\"{video['ID']}_liked\"] = 1 if rng.random() < 0.25 else 0\n",
        "    user[f\"{video['ID']}_shared\"] = 1 if rng.random() < 0.25 else 0\n",
        "    user[f\"{video['ID']}_commented\"] = 1 if rng.random() < 0.15 else 0\n",
        "\n",
        "  if video[\"Duration\"] > 40:\n",
        "    less_engagement = rng.uniform() < 0.5\n",
        "    user[f\"{video['ID']}_watched\"] /= 3 if less_engagement else 1\n",
        "    user[f\"{video['ID']}_liked\"] = 0 if rng.uniform() < 0.8 and less_engagement else user[f\"{video['ID']}_liked\"]\n",
        "    user[f\"{video['ID']}_shared\"] = 0 if rng.uniform() < 0.8 and less_engagement else user[f\"{video['ID']}_shared\"]\n",
        "    user[f\"{video['ID']}_commented\"] = 0 if rng.uniform() < 0.8 and less_engagement else user[f\"{video['ID']}_commented\"]\n",
        "\n",
        "  elif video[\"Duration\"] > 20:\n",
        "    less_engagement = rng.uniform() < 0.8\n",
        "    user[f\"{video['ID']}_watched\"] /= 1.5 if less_engagement else 1\n",
        "    user[f\"{video['ID']}_liked\"] = 0 if rng.uniform() < 0.8 and less_engagement else user[f\"{video['ID']}_liked\"]\n",
        "    user[f\"{video['ID']}_shared\"] = 0 if rng.uniform() < 0.8 and less_engagement else user[f\"{video['ID']}_shared\"]\n",
        "    user[f\"{video['ID']}_commented\"] = 0 if rng.uniform() < 0.8 and less_engagement else user[f\"{video['ID']}_commented\"]\n",
        "\n",
        "\n",
        "\n",
        "users = [generate_user(id) for id in range(50)]\n",
        "videos = [generate_video(id, rng.choice(users)) for id in range(200)]\n",
        "\n",
        "for user in users:\n",
        "  for video in videos:\n",
        "    generate_engagement(user, video)\n"
      ],
      "metadata": {
        "id": "kNrlRcIvYR_a"
      },
      "execution_count": 4,
      "outputs": []
    },
    {
      "cell_type": "markdown",
      "source": [
        "# FlipFlop"
      ],
      "metadata": {
        "id": "I6zvXCvs8S3o"
      }
    },
    {
      "cell_type": "markdown",
      "source": [
        "You have just gotten a job at a new social media company, FlipFlop. They have tasked you with designing an algorithm for suggesting videos to users. You are given two datasets, one with videos, and one with users. Each video has a vector of covariates describing its content and metadata. Each user also has a list of covariates describing their demographics, interests, and which videos in the dataset they engaged with. Engagement is measured with 5 covariates:\n",
        "\n",
        "* `seen`: 1 if a user has had the video suggested or shown to them for any amount of time\n",
        "* `watched`: Float between 0 and 1 measuring what percent of a video a user has watched\n",
        "* `liked`: 1 if a user \"liked\" the video\n",
        "* `commented`: 1 if a user commented on the video\n",
        "* `shared`: 1 if a user shared the video\n",
        "\n",
        "The video dataset has 200 videos, and 50 attributes per video. Each video has the following covariates:\n",
        "\n",
        "* `ID`: Unique ID of the video\n",
        "* `Duration`: Total duration of the video\n",
        "* `User`: The user who made the video\n",
        "* `Description`: Description of the video in question\n",
        "* 20 Additional covariates that are categorical\n",
        "* 26 Additional covariates that are continuous\n",
        "\n",
        "The user dataset has 50 users, and 7 base attributes per user. However, each user has an additional 5 attributes per video describing their engagement.\n",
        "\n",
        "* `ID`: Unique ID of the user\n",
        "* `Age`: Age of the user, -1 if unknown\n",
        "* `Gender`: `M` or `F` of a user, `X` if unknown or other\n",
        "* `Date`: Datetime the user made their account\n",
        "* `Interest1`: The user's top interest\n",
        "* `NonInterest1`: The user's most hated interest\n",
        "* `Bio`: A user's biography describing themselves\n",
        "* `ABC1_seen`: User has seen video with ID `ABC1`\n",
        "* `ABC1_watched`: User has watched a percent of video with ID `ABC1`\n",
        "* ...and so on"
      ],
      "metadata": {
        "id": "skpN_WbkYBea"
      }
    },
    {
      "cell_type": "markdown",
      "source": [
        "## First Steps\n",
        "\n",
        "1. Load the data in and peek at the first few rows\n",
        "2. Think about how you want to measure engagement\n",
        "3. Split the dataset into training, test, and validation sets"
      ],
      "metadata": {
        "id": "dq9SPBUIfgIb"
      }
    },
    {
      "cell_type": "code",
      "source": [
        "import pandas as pd\n",
        "USERS = pd.DataFrame.from_records(users)\n",
        "VIDEOS = pd.DataFrame.from_records(videos)\n",
        "\n",
        "print(\"============================================\")\n",
        "print(VIDEOS.columns)\n",
        "print(\"============================================\")\n",
        "print(VIDEOS.head)\n",
        "print(\"============================================\")\n",
        "print(USERS)"
      ],
      "metadata": {
        "id": "uve9z8kjfwSd",
        "colab": {
          "base_uri": "https://localhost:8080/"
        },
        "outputId": "67bd0fd1-e45d-43cc-a930-04a9592f8794"
      },
      "execution_count": 5,
      "outputs": [
        {
          "output_type": "stream",
          "name": "stdout",
          "text": [
            "============================================\n",
            "Index(['ID', 'Duration', 'User', 'Description', 'Category_5', 'Category_6',\n",
            "       'Category_7', 'Category_8', 'Category_9', 'Category_10', 'Category_11',\n",
            "       'Category_12', 'Category_13', 'Category_14', 'Category_15',\n",
            "       'Category_16', 'Category_17', 'Category_18', 'Category_19',\n",
            "       'Category_20', 'Category_1', 'Category_2', 'Category_3', 'Continuous_5',\n",
            "       'Continuous_6', 'Continuous_7', 'Continuous_8', 'Continuous_9',\n",
            "       'Continuous_10', 'Continuous_11', 'Continuous_12', 'Continuous_13',\n",
            "       'Continuous_14', 'Continuous_15', 'Continuous_16', 'Continuous_17',\n",
            "       'Continuous_18', 'Continuous_19', 'Continuous_20', 'Continuous_21',\n",
            "       'Continuous_22', 'Continuous_23', 'Continuous_24', 'Continuous_25',\n",
            "       'Continuous_26', 'Continous_1', 'Continous_2', 'Continous_3',\n",
            "       'Continous_4', 'Category_4'],\n",
            "      dtype='object')\n",
            "============================================\n",
            "<bound method NDFrame.head of       ID   Duration  User                                        Description  \\\n",
            "0      0  13.950464    34  Airline Garland am those Garland myself me am ...   \n",
            "1      1  17.100566    40  were Goofy were myself Compact Gigantic were w...   \n",
            "2      2  23.696329     3  Catfish Tennis Gigantic am Decorum Banquet is ...   \n",
            "3      3  25.081433     5  Banquet Erratic Life Significance Significance...   \n",
            "4      4  45.578245     9  is You that is is were me Recount Bandit was Y...   \n",
            "..   ...        ...   ...                                                ...   \n",
            "195  195  30.910562    47  am Significance Ring Tennis me that is is Banq...   \n",
            "196  196  38.076479    43  itself were Life Termination Ring myself itsel...   \n",
            "197  197  14.913139     0  Zestful  Garland Goofy Gigantic Garland my  Ca...   \n",
            "198  198  51.209189    36  Jackpot  am was Termination Termination Love m...   \n",
            "199  199  44.499728    14  Catfish my that  Airline itself Ring Catfish R...   \n",
            "\n",
            "    Category_5 Category_6 Category_7 Category_8 Category_9 Category_10  ...  \\\n",
            "0            A          B          C          C          C           B  ...   \n",
            "1            B          C          B          B          B           C  ...   \n",
            "2            B          C          A          A          C           C  ...   \n",
            "3            C          C          B          B          B           C  ...   \n",
            "4            C          C          A          A          A           B  ...   \n",
            "..         ...        ...        ...        ...        ...         ...  ...   \n",
            "195          C          C          B          A          B           B  ...   \n",
            "196          A          A          B          B          C           C  ...   \n",
            "197          B          B          B          C          C           C  ...   \n",
            "198          B          B          A          C          A           B  ...   \n",
            "199          A          B          A          B          B           B  ...   \n",
            "\n",
            "    Continuous_22 Continuous_23 Continuous_24 Continuous_25 Continuous_26  \\\n",
            "0        0.127975     -2.252494     -0.458838      3.230042     -3.083022   \n",
            "1       -5.605999      4.643481     -0.471076     -2.270404     -1.652269   \n",
            "2       -0.367609      2.153987     -2.619042     -0.566465      0.340718   \n",
            "3       -0.994617      1.963944     -0.651539     -1.634685      2.600582   \n",
            "4       -1.786051      2.032240      1.097614      4.216210     -0.750758   \n",
            "..            ...           ...           ...           ...           ...   \n",
            "195     -0.756132      0.913119     -5.492836     -1.425588      1.431481   \n",
            "196      3.162084      1.843049     -4.164887      0.850624      0.647445   \n",
            "197     -2.334797     -3.050670      2.763353      2.383423      0.788828   \n",
            "198     -0.348520      2.616518     -4.021812     -0.370466     -0.575701   \n",
            "199      3.613736     -4.522993     -2.269356      0.954968     -2.765557   \n",
            "\n",
            "    Continous_1 Continous_2 Continous_3 Continous_4 Category_4  \n",
            "0      1.031693    3.186019   -0.644768    0.654579          A  \n",
            "1      1.159896    0.921583    1.798334    2.572857          A  \n",
            "2     -0.918256    1.216587   -1.209013    1.905963          B  \n",
            "3      1.167231    1.078118   -0.040587    2.300555          A  \n",
            "4     -0.942454   -0.360573    0.545211    0.253298          B  \n",
            "..          ...         ...         ...         ...        ...  \n",
            "195   -0.894067    0.158576    1.179338    2.233158          B  \n",
            "196    1.082826   -0.894145    0.458068    0.139461          A  \n",
            "197   -0.932668    2.240656    2.863190    1.514102          B  \n",
            "198   -0.939221    0.354496   -0.552253   -2.002700          B  \n",
            "199   -0.965788    0.903783    1.971508    1.165792          B  \n",
            "\n",
            "[200 rows x 50 columns]>\n",
            "============================================\n",
            "    ID  Age Gender                Date    Interest1 NonInterest1  \\\n",
            "0    0   48      F 2023-06-04 11:34:06   Government      Interim   \n",
            "1    1   30      M 2023-04-13 07:05:02  Grandnieces          Way   \n",
            "2    2   28      F 2023-04-28 22:39:36  Grandnieces     Handbook   \n",
            "3    3   21      F 2023-05-16 04:48:22  Grandnieces  Parenthesis   \n",
            "4    4   45      M 2023-04-23 05:57:21  Parenthesis      Noisome   \n",
            "5    5   22      M 2023-04-11 20:29:19  Grandnieces          Way   \n",
            "6    6   54      M 2023-05-30 00:44:25     Handbook          Way   \n",
            "7    7   27      M 2023-04-04 23:34:27  Grandnieces      Noisome   \n",
            "8    8   42      M 2023-02-01 08:18:10  Parenthesis      Interim   \n",
            "9    9   24      F 2023-03-25 18:53:34  Grandnieces      Interim   \n",
            "10  10   52      M 2023-06-23 03:25:17  Grandnieces     Handbook   \n",
            "11  11   22      F 2023-02-16 10:00:24  Grandnieces   Salesclerk   \n",
            "12  12   35      F 2023-04-08 09:15:22      Noisome   Government   \n",
            "13  13   -1      M 2023-03-29 20:56:03  Grandnieces          Way   \n",
            "14  14   55      F 2023-03-09 04:32:12      Noisome          Way   \n",
            "15  15   59      M 2023-07-03 15:08:23     Handbook     Handbook   \n",
            "16  16   40      M 2023-01-29 14:07:38  Parenthesis  Grandnieces   \n",
            "17  17   39      F 2023-06-01 21:36:52     Handbook       Campus   \n",
            "18  18   39      M 2023-03-30 08:33:45     Handbook      Noisome   \n",
            "19  19   40      F 2023-07-04 00:21:10     Handbook   Government   \n",
            "20  20   35      M 2023-03-30 12:30:22  Grandnieces   Blackboard   \n",
            "21  21   -1     -1 2023-05-28 02:51:41  Grandnieces      Noisome   \n",
            "22  22   55     -1 2023-05-19 10:05:33      Noisome       Campus   \n",
            "23  23   34      F 2023-06-09 16:45:11  Grandnieces      Interim   \n",
            "24  24   45      M 2023-03-15 15:31:51     Handbook      Interim   \n",
            "25  25   21      M 2023-03-18 03:51:48  Grandnieces      Noisome   \n",
            "26  26   -1      M 2023-03-08 17:43:00  Grandnieces   Government   \n",
            "27  27   26      F 2023-03-24 04:56:00      Noisome   Government   \n",
            "28  28   -1      F 2023-03-13 01:54:05  Grandnieces     Handbook   \n",
            "29  29   31      M 2023-07-16 17:59:57  Parenthesis   Government   \n",
            "30  30   45      F 2023-04-25 21:01:37      Noisome          Way   \n",
            "31  31   57      M 2023-03-28 02:54:38  Grandnieces      Interim   \n",
            "32  32   54      M 2023-03-13 14:11:12  Grandnieces      Interim   \n",
            "33  33   -1      F 2023-03-21 02:13:49  Grandnieces      Interim   \n",
            "34  34   22      M 2023-05-22 22:41:00   Blackboard   Government   \n",
            "35  35   -1      M 2023-06-12 15:57:09  Grandnieces   Blackboard   \n",
            "36  36   -1      F 2023-03-02 15:16:10  Grandnieces  Parenthesis   \n",
            "37  37   28      F 2023-02-09 13:20:51  Grandnieces  Parenthesis   \n",
            "38  38   59      M 2023-02-03 01:25:24  Grandnieces       Campus   \n",
            "39  39   33      F 2023-05-03 14:32:56   Blackboard  Parenthesis   \n",
            "40  40   48     -1 2023-07-15 08:53:55      Noisome  Grandnieces   \n",
            "41  41   55      F 2023-05-14 06:35:14  Grandnieces          Way   \n",
            "42  42   -1      M 2023-05-19 02:33:29  Grandnieces      Interim   \n",
            "43  43   57      M 2023-04-09 07:26:20  Grandnieces  Grandnieces   \n",
            "44  44   -1      M 2023-04-07 05:57:44  Grandnieces      Interim   \n",
            "45  45   -1      F 2023-05-18 17:38:17  Grandnieces   Salesclerk   \n",
            "46  46   35      M 2023-02-12 10:48:45  Parenthesis   Salesclerk   \n",
            "47  47   48      F 2023-05-10 14:46:06   Blackboard  Parenthesis   \n",
            "48  48   22      M 2023-04-20 07:09:40     Handbook  Parenthesis   \n",
            "49  49   21      M 2023-02-12 07:49:35  Grandnieces   Blackboard   \n",
            "\n",
            "                                                  Bio  0_seen  0_watched  \\\n",
            "0   Gigantic is Zestful myself Recount is Banquet ...     1.0   0.924457   \n",
            "1   Airline these Termination this Dangerous are D...     1.0   0.811222   \n",
            "2   Goofy were Significance i Banquet this Termina...     1.0   0.984752   \n",
            "3   Grandnieces were You those Inimical were Recou...     1.0   0.992345   \n",
            "4   Zestful are Significance me Dark these Goofy i...     0.0   0.000000   \n",
            "5   Banquet myself Life me Erratic those Significa...     0.0   0.000000   \n",
            "6   Zestful those Termination that Compact i Lifel...     0.0   0.000000   \n",
            "7   Jackpot i Bandit is Love myself Zestful are Li...     1.0   0.929129   \n",
            "8   Lifeline this Etymology am Ship itself Ship is...     0.0   0.000000   \n",
            "9   Termination were Airline is Dangerous that Ten...     1.0   0.878774   \n",
            "10  Love its Goofy it Bandit that Decorum myself Z...     1.0   0.932540   \n",
            "11  Recount that Gigantic am Zestful were Etymolog...     0.0   0.000000   \n",
            "12  Garland me Gigantic is Jackpot were Tennis are...     1.0   0.844700   \n",
            "13  Termination it Airline these Significance that...     1.0   0.868450   \n",
            "14  Etymology its Catfish itself Garland those Zes...     0.0   0.000000   \n",
            "15  Dangerous my Jackpot were Garland were Biologi...     1.0   0.818258   \n",
            "16  Catfish i Termination was Dark was Bandit thos...     0.0   0.000000   \n",
            "17  Compact is Garland were Airline these Biologis...     1.0   0.845228   \n",
            "18  You myself Dark were Goofy i Lifeline its Deco...     0.0   0.000000   \n",
            "19  Celery it You myself Decorum it Celery were Da...     1.0   0.976402   \n",
            "20  Gigantic me Ring is Termination these Terminat...     0.0   0.000000   \n",
            "21  Erratic me You myself Near i Dark are Lifeline...     0.0   0.000000   \n",
            "22  Biologist is Grandnieces that Garland was Ship...     1.0   0.870453   \n",
            "23  Biologist  Termination that Lifeline itself Ze...     1.0   0.972579   \n",
            "24  Catfish  Lifeline am Dark me Significance was ...     0.0   0.000000   \n",
            "25  Sometimes i Zestful these Near those Terminati...     1.0   0.848264   \n",
            "26  Gigantic my Sometimes i Ring  Ring was Zestful...     0.0   0.000000   \n",
            "27  Lifeline am Biologist itself Sometimes these R...     1.0   0.901453   \n",
            "28  Catfish are Lifeline its Airline are Banquet m...     0.0   0.000000   \n",
            "29  Significance me Life  Compact me Airline mysel...     1.0   0.915946   \n",
            "30  Recount it You is Etymology those Recount thes...     1.0   0.806390   \n",
            "31  Ship it Jackpot me You i Compact itself Garlan...     0.0   0.000000   \n",
            "32  Etymology those Bandit that Compact itself You...     1.0   0.972154   \n",
            "33  Lifeline i Significance is Ring is Dangerous m...     1.0   0.959697   \n",
            "34  Airline me Recount itself Termination those Ga...     NaN   1.000000   \n",
            "35  Near its Decorum those Etymology  Recount myse...     1.0   0.945402   \n",
            "36  Jackpot its Lifeline am Ring am Jackpot itself...     0.0   0.000000   \n",
            "37  Celery that Ship i Garland were Near i Banquet...     1.0   0.923406   \n",
            "38  Compact it Goofy i You its Ring me Biologist i...     0.0   0.000000   \n",
            "39  Erratic is Sometimes its Tennis  Inimical its ...     0.0   0.000000   \n",
            "40  Banquet were Bandit was Celery are Catfish was...     1.0   0.980386   \n",
            "41  You those Tennis those Compact was Etymology w...     1.0   0.994333   \n",
            "42  Love that Ship myself Inimical itself Jackpot ...     1.0   0.975717   \n",
            "43  Termination its Ring those Life am Ring itself...     0.0   0.000000   \n",
            "44  Tennis that Tennis itself Erratic that Compact...     1.0   0.852542   \n",
            "45  Sometimes that Goofy that Significance its Gra...     0.0   0.000000   \n",
            "46  Sometimes my Etymology its Banquet were Life i...     0.0   0.000000   \n",
            "47  Erratic is Love am Compact itself Inimical wer...     1.0   0.933349   \n",
            "48  Biologist my Significance am Decorum i Compact...     1.0   0.927286   \n",
            "49  Biologist my Grandnieces those Significance it...     1.0   0.962033   \n",
            "\n",
            "    0_liked  ...  199_watched  199_liked  199_shared  199_commented  58_seen  \\\n",
            "0         0  ...     0.000000          0           0              0      NaN   \n",
            "1         0  ...     0.282552          1           0              0      1.0   \n",
            "2         0  ...     0.000000          0           0              0      1.0   \n",
            "3         0  ...     0.525919          0           0              0      1.0   \n",
            "4         0  ...     0.000000          0           0              0      1.0   \n",
            "5         0  ...     0.000000          0           0              0      0.0   \n",
            "6         0  ...     0.867109          0           1              1      0.0   \n",
            "7         0  ...     0.313550          0           0              0      0.0   \n",
            "8         0  ...     0.000000          0           0              0      0.0   \n",
            "9         0  ...     0.690010          0           0              0      0.0   \n",
            "10        0  ...     0.260492          0           0              0      1.0   \n",
            "11        0  ...     0.000000          0           0              0      1.0   \n",
            "12        0  ...     0.000000          0           0              0      1.0   \n",
            "13        0  ...     0.000000          0           0              0      0.0   \n",
            "14        0  ...     1.000000          1           1              1      0.0   \n",
            "15        0  ...     0.724033          0           0              0      1.0   \n",
            "16        0  ...     0.000000          0           0              0      0.0   \n",
            "17        0  ...     0.842442          0           1              0      1.0   \n",
            "18        0  ...     0.000000          0           0              0      1.0   \n",
            "19        0  ...     0.922461          1           1              0      0.0   \n",
            "20        0  ...     0.972353          1           1              1      0.0   \n",
            "21        0  ...     0.114930          0           0              0      0.0   \n",
            "22        0  ...     0.338463          0           0              0      1.0   \n",
            "23        0  ...     0.940975          1           1              0      1.0   \n",
            "24        0  ...     0.000000          0           0              0      0.0   \n",
            "25        0  ...     0.324783          0           0              0      0.0   \n",
            "26        0  ...     0.000000          0           0              0      1.0   \n",
            "27        0  ...     0.000000          0           0              0      0.0   \n",
            "28        0  ...     0.978368          1           0              1      1.0   \n",
            "29        0  ...     0.900569          1           1              1      0.0   \n",
            "30        0  ...     0.000000          0           0              0      1.0   \n",
            "31        0  ...     0.000000          0           0              0      0.0   \n",
            "32        0  ...     0.453650          1           0              0      0.0   \n",
            "33        0  ...     0.310570          0           1              0      1.0   \n",
            "34        1  ...     0.743324          0           0              0      1.0   \n",
            "35        0  ...     0.321736          0           0              0      1.0   \n",
            "36        0  ...     0.000000          0           0              0      1.0   \n",
            "37        0  ...     0.000000          0           0              0      0.0   \n",
            "38        0  ...     0.000000          0           0              0      0.0   \n",
            "39        0  ...     0.241240          0           0              1      1.0   \n",
            "40        0  ...     0.289968          0           1              0      1.0   \n",
            "41        0  ...     0.317548          0           0              0      1.0   \n",
            "42        0  ...     0.329313          0           0              0      1.0   \n",
            "43        0  ...     0.000000          0           0              0      1.0   \n",
            "44        0  ...     0.202881          0           0              0      1.0   \n",
            "45        0  ...     0.877273          1           1              0      1.0   \n",
            "46        0  ...     0.876073          1           1              0      0.0   \n",
            "47        0  ...     0.325310          0           0              0      1.0   \n",
            "48        0  ...     0.197123          0           0              0      0.0   \n",
            "49        0  ...     0.000000          0           0              0      0.0   \n",
            "\n",
            "    116_seen  140_seen  147_seen  149_seen  197_seen  \n",
            "0        NaN       NaN       NaN       NaN       NaN  \n",
            "1        0.0       1.0       0.0       1.0       1.0  \n",
            "2        0.0       1.0       0.0       1.0       0.0  \n",
            "3        1.0       1.0       0.0       1.0       1.0  \n",
            "4        0.0       1.0       1.0       1.0       1.0  \n",
            "5        1.0       0.0       1.0       1.0       0.0  \n",
            "6        1.0       1.0       1.0       1.0       0.0  \n",
            "7        0.0       0.0       1.0       1.0       1.0  \n",
            "8        0.0       0.0       0.0       0.0       0.0  \n",
            "9        0.0       1.0       0.0       1.0       0.0  \n",
            "10       1.0       1.0       1.0       1.0       0.0  \n",
            "11       1.0       0.0       0.0       0.0       0.0  \n",
            "12       0.0       0.0       0.0       0.0       1.0  \n",
            "13       1.0       1.0       0.0       1.0       1.0  \n",
            "14       0.0       1.0       0.0       0.0       1.0  \n",
            "15       1.0       1.0       0.0       1.0       1.0  \n",
            "16       0.0       0.0       0.0       0.0       0.0  \n",
            "17       1.0       1.0       1.0       1.0       1.0  \n",
            "18       0.0       0.0       0.0       1.0       1.0  \n",
            "19       1.0       1.0       1.0       1.0       1.0  \n",
            "20       1.0       0.0       1.0       1.0       1.0  \n",
            "21       0.0       1.0       0.0       1.0       1.0  \n",
            "22       1.0       1.0       0.0       1.0       1.0  \n",
            "23       1.0       1.0       0.0       1.0       1.0  \n",
            "24       0.0       0.0       1.0       1.0       0.0  \n",
            "25       0.0       0.0       0.0       1.0       1.0  \n",
            "26       0.0       0.0       1.0       1.0       1.0  \n",
            "27       1.0       1.0       1.0       1.0       1.0  \n",
            "28       0.0       1.0       0.0       0.0       0.0  \n",
            "29       1.0       0.0       1.0       1.0       1.0  \n",
            "30       1.0       1.0       1.0       0.0       1.0  \n",
            "31       0.0       1.0       0.0       1.0       0.0  \n",
            "32       0.0       0.0       1.0       0.0       0.0  \n",
            "33       0.0       1.0       0.0       1.0       0.0  \n",
            "34       1.0       1.0       1.0       1.0       1.0  \n",
            "35       1.0       1.0       1.0       1.0       1.0  \n",
            "36       0.0       0.0       0.0       0.0       0.0  \n",
            "37       0.0       0.0       0.0       0.0       0.0  \n",
            "38       0.0       0.0       0.0       0.0       0.0  \n",
            "39       1.0       1.0       1.0       1.0       1.0  \n",
            "40       1.0       1.0       1.0       1.0       1.0  \n",
            "41       1.0       1.0       1.0       1.0       1.0  \n",
            "42       1.0       1.0       1.0       1.0       1.0  \n",
            "43       1.0       0.0       1.0       1.0       1.0  \n",
            "44       1.0       1.0       1.0       0.0       0.0  \n",
            "45       1.0       1.0       1.0       1.0       0.0  \n",
            "46       0.0       0.0       1.0       0.0       0.0  \n",
            "47       1.0       1.0       1.0       0.0       0.0  \n",
            "48       1.0       1.0       1.0       1.0       1.0  \n",
            "49       0.0       0.0       0.0       0.0       0.0  \n",
            "\n",
            "[50 rows x 1007 columns]\n"
          ]
        }
      ]
    },
    {
      "cell_type": "markdown",
      "source": [
        "## Exploratory Data Analysis\n",
        "\n",
        "Do the following steps to get an idea of the data:\n",
        "\n",
        "1. Try combining the datasets into 1 to help facilitate analysis\n",
        "2. Find the top 5 videos in the dataset, do they have anything in common?\n",
        "3. What covariates are correlated in the user and video datasets? Make some scatter plots."
      ],
      "metadata": {
        "id": "Bj_8BJV-exrO"
      }
    },
    {
      "cell_type": "code",
      "source": [
        "# Part 1: Join two datasets\n",
        "print(\"=============== Head of the Merged Data ======================\")\n",
        "Data = pd.merge(VIDEOS, USERS, left_on='User', right_on='ID') # let Video dataset join the User based on its ID\n",
        "print(Data.head())\n",
        "\n",
        "print(\"=============== Basic Info of the Data ======================\")\n",
        "print(\"Observations: \", Data.size)\n",
        "print(\"Num Features: \", len(Data.columns))\n",
        "print(\"Feature Names: \", [i for i in Data.columns])\n"
      ],
      "metadata": {
        "id": "aWQFBLdHbNt1",
        "outputId": "f5c835e7-4f52-492c-b465-14440edbdf40",
        "colab": {
          "base_uri": "https://localhost:8080/"
        }
      },
      "execution_count": 68,
      "outputs": [
        {
          "output_type": "stream",
          "name": "stdout",
          "text": [
            "=============== Head of the Merged Data ======================\n",
            "  ID_x   Duration  User                                        Description  \\\n",
            "0    0  13.950464    34  Airline Garland am those Garland myself me am ...   \n",
            "1  107  11.300317    34  Love Termination myself itself  Garland Catfis...   \n",
            "2  109  60.000000    34  me Recount myself Tennis was Jackpot Garland T...   \n",
            "3  137  27.698091    34  am  Dark myself Dark Termination   me Garland ...   \n",
            "4  143   9.856128    34  Tennis  myself i Dark were Garland Garland me ...   \n",
            "\n",
            "  Category_5 Category_6 Category_7 Category_8 Category_9 Category_10  ...  \\\n",
            "0          A          B          C          C          C           B  ...   \n",
            "1          B          C          A          C          A           C  ...   \n",
            "2          A          B          C          A          A           A  ...   \n",
            "3          B          B          A          B          B           A  ...   \n",
            "4          A          B          A          B          A           B  ...   \n",
            "\n",
            "  199_watched 199_liked 199_shared 199_commented 58_seen 116_seen 140_seen  \\\n",
            "0    0.743324         0          0             0     1.0      1.0      1.0   \n",
            "1    0.743324         0          0             0     1.0      1.0      1.0   \n",
            "2    0.743324         0          0             0     1.0      1.0      1.0   \n",
            "3    0.743324         0          0             0     1.0      1.0      1.0   \n",
            "4    0.743324         0          0             0     1.0      1.0      1.0   \n",
            "\n",
            "  147_seen 149_seen 197_seen  \n",
            "0      1.0      1.0      1.0  \n",
            "1      1.0      1.0      1.0  \n",
            "2      1.0      1.0      1.0  \n",
            "3      1.0      1.0      1.0  \n",
            "4      1.0      1.0      1.0  \n",
            "\n",
            "[5 rows x 1057 columns]\n",
            "=============== Basic Info of the Data ======================\n",
            "Observations:  211400\n",
            "Num Features:  1057\n",
            "Feature Names:  ['ID_x', 'Duration', 'User', 'Description', 'Category_5', 'Category_6', 'Category_7', 'Category_8', 'Category_9', 'Category_10', 'Category_11', 'Category_12', 'Category_13', 'Category_14', 'Category_15', 'Category_16', 'Category_17', 'Category_18', 'Category_19', 'Category_20', 'Category_1', 'Category_2', 'Category_3', 'Continuous_5', 'Continuous_6', 'Continuous_7', 'Continuous_8', 'Continuous_9', 'Continuous_10', 'Continuous_11', 'Continuous_12', 'Continuous_13', 'Continuous_14', 'Continuous_15', 'Continuous_16', 'Continuous_17', 'Continuous_18', 'Continuous_19', 'Continuous_20', 'Continuous_21', 'Continuous_22', 'Continuous_23', 'Continuous_24', 'Continuous_25', 'Continuous_26', 'Continous_1', 'Continous_2', 'Continous_3', 'Continous_4', 'Category_4', 'ID_y', 'Age', 'Gender', 'Date', 'Interest1', 'NonInterest1', 'Bio', '0_seen', '0_watched', '0_liked', '0_shared', '0_commented', '1_seen', '1_watched', '1_liked', '1_shared', '1_commented', '2_seen', '2_watched', '2_liked', '2_shared', '2_commented', '3_seen', '3_watched', '3_liked', '3_shared', '3_commented', '4_seen', '4_watched', '4_liked', '4_shared', '4_commented', '5_seen', '5_watched', '5_liked', '5_shared', '5_commented', '6_seen', '6_watched', '6_liked', '6_shared', '6_commented', '7_seen', '7_watched', '7_liked', '7_shared', '7_commented', '8_seen', '8_watched', '8_liked', '8_shared', '8_commented', '9_seen', '9_watched', '9_liked', '9_shared', '9_commented', '10_seen', '10_watched', '10_liked', '10_shared', '10_commented', '11_seen', '11_watched', '11_liked', '11_shared', '11_commented', '12_seen', '12_watched', '12_liked', '12_shared', '12_commented', '13_seen', '13_watched', '13_liked', '13_shared', '13_commented', '14_seen', '14_watched', '14_liked', '14_shared', '14_commented', '15_seen', '15_watched', '15_liked', '15_shared', '15_commented', '16_seen', '16_watched', '16_liked', '16_shared', '16_commented', '17_seen', '17_watched', '17_liked', '17_shared', '17_commented', '18_seen', '18_watched', '18_liked', '18_shared', '18_commented', '19_seen', '19_watched', '19_liked', '19_shared', '19_commented', '20_seen', '20_watched', '20_liked', '20_shared', '20_commented', '21_seen', '21_watched', '21_liked', '21_shared', '21_commented', '22_seen', '22_watched', '22_liked', '22_shared', '22_commented', '23_seen', '23_watched', '23_liked', '23_shared', '23_commented', '24_seen', '24_watched', '24_liked', '24_shared', '24_commented', '25_seen', '25_watched', '25_liked', '25_shared', '25_commented', '26_seen', '26_watched', '26_liked', '26_shared', '26_commented', '27_seen', '27_watched', '27_liked', '27_shared', '27_commented', '28_seen', '28_watched', '28_liked', '28_shared', '28_commented', '29_seen', '29_watched', '29_liked', '29_shared', '29_commented', '30_seen', '30_watched', '30_liked', '30_shared', '30_commented', '31_seen', '31_watched', '31_liked', '31_shared', '31_commented', '32_seen', '32_watched', '32_liked', '32_shared', '32_commented', '33_seen', '33_watched', '33_liked', '33_shared', '33_commented', '34_seen', '34_watched', '34_liked', '34_shared', '34_commented', '35_seen', '35_watched', '35_liked', '35_shared', '35_commented', '36_seen', '36_watched', '36_liked', '36_shared', '36_commented', '37_seen', '37_watched', '37_liked', '37_shared', '37_commented', '38_seen', '38_watched', '38_liked', '38_shared', '38_commented', '39_seen', '39_watched', '39_liked', '39_shared', '39_commented', '40_seen', '40_watched', '40_liked', '40_shared', '40_commented', '41_seen', '41_watched', '41_liked', '41_shared', '41_commented', '42_seen', '42_watched', '42_liked', '42_shared', '42_commented', '43_seen', '43_watched', '43_liked', '43_shared', '43_commented', '44_seen', '44_watched', '44_liked', '44_shared', '44_commented', '45_seen', '45_watched', '45_liked', '45_shared', '45_commented', '46_seen', '46_watched', '46_liked', '46_shared', '46_commented', '47_seen', '47_watched', '47_liked', '47_shared', '47_commented', '48_seen', '48_watched', '48_liked', '48_shared', '48_commented', '49_seen', '49_watched', '49_liked', '49_shared', '49_commented', '50_seen', '50_watched', '50_liked', '50_shared', '50_commented', '51_seen', '51_watched', '51_liked', '51_shared', '51_commented', '52_seen', '52_watched', '52_liked', '52_shared', '52_commented', '53_seen', '53_watched', '53_liked', '53_shared', '53_commented', '54_seen', '54_watched', '54_liked', '54_shared', '54_commented', '55_seen', '55_watched', '55_liked', '55_shared', '55_commented', '56_seen', '56_watched', '56_liked', '56_shared', '56_commented', '57_seen', '57_watched', '57_liked', '57_shared', '57_commented', '58_watched', '58_liked', '58_shared', '58_commented', '59_seen', '59_watched', '59_liked', '59_shared', '59_commented', '60_seen', '60_watched', '60_liked', '60_shared', '60_commented', '61_seen', '61_watched', '61_liked', '61_shared', '61_commented', '62_seen', '62_watched', '62_liked', '62_shared', '62_commented', '63_seen', '63_watched', '63_liked', '63_shared', '63_commented', '64_seen', '64_watched', '64_liked', '64_shared', '64_commented', '65_seen', '65_watched', '65_liked', '65_shared', '65_commented', '66_seen', '66_watched', '66_liked', '66_shared', '66_commented', '67_seen', '67_watched', '67_liked', '67_shared', '67_commented', '68_seen', '68_watched', '68_liked', '68_shared', '68_commented', '69_seen', '69_watched', '69_liked', '69_shared', '69_commented', '70_seen', '70_watched', '70_liked', '70_shared', '70_commented', '71_seen', '71_watched', '71_liked', '71_shared', '71_commented', '72_seen', '72_watched', '72_liked', '72_shared', '72_commented', '73_seen', '73_watched', '73_liked', '73_shared', '73_commented', '74_seen', '74_watched', '74_liked', '74_shared', '74_commented', '75_seen', '75_watched', '75_liked', '75_shared', '75_commented', '76_seen', '76_watched', '76_liked', '76_shared', '76_commented', '77_seen', '77_watched', '77_liked', '77_shared', '77_commented', '78_seen', '78_watched', '78_liked', '78_shared', '78_commented', '79_seen', '79_watched', '79_liked', '79_shared', '79_commented', '80_seen', '80_watched', '80_liked', '80_shared', '80_commented', '81_seen', '81_watched', '81_liked', '81_shared', '81_commented', '82_seen', '82_watched', '82_liked', '82_shared', '82_commented', '83_seen', '83_watched', '83_liked', '83_shared', '83_commented', '84_seen', '84_watched', '84_liked', '84_shared', '84_commented', '85_seen', '85_watched', '85_liked', '85_shared', '85_commented', '86_seen', '86_watched', '86_liked', '86_shared', '86_commented', '87_seen', '87_watched', '87_liked', '87_shared', '87_commented', '88_seen', '88_watched', '88_liked', '88_shared', '88_commented', '89_seen', '89_watched', '89_liked', '89_shared', '89_commented', '90_seen', '90_watched', '90_liked', '90_shared', '90_commented', '91_seen', '91_watched', '91_liked', '91_shared', '91_commented', '92_seen', '92_watched', '92_liked', '92_shared', '92_commented', '93_seen', '93_watched', '93_liked', '93_shared', '93_commented', '94_seen', '94_watched', '94_liked', '94_shared', '94_commented', '95_seen', '95_watched', '95_liked', '95_shared', '95_commented', '96_seen', '96_watched', '96_liked', '96_shared', '96_commented', '97_seen', '97_watched', '97_liked', '97_shared', '97_commented', '98_seen', '98_watched', '98_liked', '98_shared', '98_commented', '99_seen', '99_watched', '99_liked', '99_shared', '99_commented', '100_seen', '100_watched', '100_liked', '100_shared', '100_commented', '101_seen', '101_watched', '101_liked', '101_shared', '101_commented', '102_seen', '102_watched', '102_liked', '102_shared', '102_commented', '103_seen', '103_watched', '103_liked', '103_shared', '103_commented', '104_seen', '104_watched', '104_liked', '104_shared', '104_commented', '105_seen', '105_watched', '105_liked', '105_shared', '105_commented', '106_seen', '106_watched', '106_liked', '106_shared', '106_commented', '107_seen', '107_watched', '107_liked', '107_shared', '107_commented', '108_seen', '108_watched', '108_liked', '108_shared', '108_commented', '109_seen', '109_watched', '109_liked', '109_shared', '109_commented', '110_seen', '110_watched', '110_liked', '110_shared', '110_commented', '111_seen', '111_watched', '111_liked', '111_shared', '111_commented', '112_seen', '112_watched', '112_liked', '112_shared', '112_commented', '113_seen', '113_watched', '113_liked', '113_shared', '113_commented', '114_seen', '114_watched', '114_liked', '114_shared', '114_commented', '115_seen', '115_watched', '115_liked', '115_shared', '115_commented', '116_watched', '116_liked', '116_shared', '116_commented', '117_seen', '117_watched', '117_liked', '117_shared', '117_commented', '118_seen', '118_watched', '118_liked', '118_shared', '118_commented', '119_seen', '119_watched', '119_liked', '119_shared', '119_commented', '120_seen', '120_watched', '120_liked', '120_shared', '120_commented', '121_seen', '121_watched', '121_liked', '121_shared', '121_commented', '122_seen', '122_watched', '122_liked', '122_shared', '122_commented', '123_seen', '123_watched', '123_liked', '123_shared', '123_commented', '124_seen', '124_watched', '124_liked', '124_shared', '124_commented', '125_seen', '125_watched', '125_liked', '125_shared', '125_commented', '126_seen', '126_watched', '126_liked', '126_shared', '126_commented', '127_seen', '127_watched', '127_liked', '127_shared', '127_commented', '128_seen', '128_watched', '128_liked', '128_shared', '128_commented', '129_seen', '129_watched', '129_liked', '129_shared', '129_commented', '130_seen', '130_watched', '130_liked', '130_shared', '130_commented', '131_seen', '131_watched', '131_liked', '131_shared', '131_commented', '132_seen', '132_watched', '132_liked', '132_shared', '132_commented', '133_seen', '133_watched', '133_liked', '133_shared', '133_commented', '134_seen', '134_watched', '134_liked', '134_shared', '134_commented', '135_seen', '135_watched', '135_liked', '135_shared', '135_commented', '136_seen', '136_watched', '136_liked', '136_shared', '136_commented', '137_seen', '137_watched', '137_liked', '137_shared', '137_commented', '138_seen', '138_watched', '138_liked', '138_shared', '138_commented', '139_seen', '139_watched', '139_liked', '139_shared', '139_commented', '140_watched', '140_liked', '140_shared', '140_commented', '141_seen', '141_watched', '141_liked', '141_shared', '141_commented', '142_seen', '142_watched', '142_liked', '142_shared', '142_commented', '143_seen', '143_watched', '143_liked', '143_shared', '143_commented', '144_seen', '144_watched', '144_liked', '144_shared', '144_commented', '145_seen', '145_watched', '145_liked', '145_shared', '145_commented', '146_seen', '146_watched', '146_liked', '146_shared', '146_commented', '147_watched', '147_liked', '147_shared', '147_commented', '148_seen', '148_watched', '148_liked', '148_shared', '148_commented', '149_watched', '149_liked', '149_shared', '149_commented', '150_seen', '150_watched', '150_liked', '150_shared', '150_commented', '151_seen', '151_watched', '151_liked', '151_shared', '151_commented', '152_seen', '152_watched', '152_liked', '152_shared', '152_commented', '153_seen', '153_watched', '153_liked', '153_shared', '153_commented', '154_seen', '154_watched', '154_liked', '154_shared', '154_commented', '155_seen', '155_watched', '155_liked', '155_shared', '155_commented', '156_seen', '156_watched', '156_liked', '156_shared', '156_commented', '157_seen', '157_watched', '157_liked', '157_shared', '157_commented', '158_seen', '158_watched', '158_liked', '158_shared', '158_commented', '159_seen', '159_watched', '159_liked', '159_shared', '159_commented', '160_seen', '160_watched', '160_liked', '160_shared', '160_commented', '161_seen', '161_watched', '161_liked', '161_shared', '161_commented', '162_seen', '162_watched', '162_liked', '162_shared', '162_commented', '163_seen', '163_watched', '163_liked', '163_shared', '163_commented', '164_seen', '164_watched', '164_liked', '164_shared', '164_commented', '165_seen', '165_watched', '165_liked', '165_shared', '165_commented', '166_seen', '166_watched', '166_liked', '166_shared', '166_commented', '167_seen', '167_watched', '167_liked', '167_shared', '167_commented', '168_seen', '168_watched', '168_liked', '168_shared', '168_commented', '169_seen', '169_watched', '169_liked', '169_shared', '169_commented', '170_seen', '170_watched', '170_liked', '170_shared', '170_commented', '171_seen', '171_watched', '171_liked', '171_shared', '171_commented', '172_seen', '172_watched', '172_liked', '172_shared', '172_commented', '173_seen', '173_watched', '173_liked', '173_shared', '173_commented', '174_seen', '174_watched', '174_liked', '174_shared', '174_commented', '175_seen', '175_watched', '175_liked', '175_shared', '175_commented', '176_seen', '176_watched', '176_liked', '176_shared', '176_commented', '177_seen', '177_watched', '177_liked', '177_shared', '177_commented', '178_seen', '178_watched', '178_liked', '178_shared', '178_commented', '179_seen', '179_watched', '179_liked', '179_shared', '179_commented', '180_seen', '180_watched', '180_liked', '180_shared', '180_commented', '181_seen', '181_watched', '181_liked', '181_shared', '181_commented', '182_seen', '182_watched', '182_liked', '182_shared', '182_commented', '183_seen', '183_watched', '183_liked', '183_shared', '183_commented', '184_seen', '184_watched', '184_liked', '184_shared', '184_commented', '185_seen', '185_watched', '185_liked', '185_shared', '185_commented', '186_seen', '186_watched', '186_liked', '186_shared', '186_commented', '187_seen', '187_watched', '187_liked', '187_shared', '187_commented', '188_seen', '188_watched', '188_liked', '188_shared', '188_commented', '189_seen', '189_watched', '189_liked', '189_shared', '189_commented', '190_seen', '190_watched', '190_liked', '190_shared', '190_commented', '191_seen', '191_watched', '191_liked', '191_shared', '191_commented', '192_seen', '192_watched', '192_liked', '192_shared', '192_commented', '193_seen', '193_watched', '193_liked', '193_shared', '193_commented', '194_seen', '194_watched', '194_liked', '194_shared', '194_commented', '195_seen', '195_watched', '195_liked', '195_shared', '195_commented', '196_seen', '196_watched', '196_liked', '196_shared', '196_commented', '197_watched', '197_liked', '197_shared', '197_commented', '198_seen', '198_watched', '198_liked', '198_shared', '198_commented', '199_seen', '199_watched', '199_liked', '199_shared', '199_commented', '58_seen', '116_seen', '140_seen', '147_seen', '149_seen', '197_seen']\n"
          ]
        }
      ]
    },
    {
      "cell_type": "code",
      "execution_count": 59,
      "metadata": {
        "id": "BFqXpQ62X-BO",
        "outputId": "e0f71305-0a2e-4caf-996c-40825578614f",
        "colab": {
          "base_uri": "https://localhost:8080/"
        }
      },
      "outputs": [
        {
          "output_type": "stream",
          "name": "stdout",
          "text": [
            "Number of most active videos: 15\n",
            "==================================================\n",
            "61     Catfish itself Bandit Biologist myself Compact...\n",
            "62     that me Bandit Bandit Lifeline it Termination ...\n",
            "63     me Airline Dangerous is myself are that Bandit...\n",
            "64     Zestful Significance Dangerous i is Airline ar...\n",
            "65     Dangerous are Compact are me is Compact Biolog...\n",
            "66     Bandit myself me is Termination Biologist Catf...\n",
            "79     Airline those those Love Etymology Ring Ring t...\n",
            "80     Zestful its Dark its me Etymology Decorum Ring...\n",
            "81     its Love itself Decorum is Ring is this those ...\n",
            "82     itself Ring me those those me that is were Ter...\n",
            "83     Catfish my that  Airline itself Ring Catfish R...\n",
            "108    these i these Biologist i were me  these Termi...\n",
            "109    is me Tennis me were Bandit these i is i Lifel...\n",
            "110    these Gigantic these Termination me these i me...\n",
            "111    Tennis  those Tennis Termination were were Lif...\n",
            "Name: Description, dtype: object\n",
            "==================================================\n",
            "Top 5 Viewed Longest\n",
            "79    Airline those those Love Etymology Ring Ring t...\n",
            "80    Zestful its Dark its me Etymology Decorum Ring...\n",
            "81    its Love itself Decorum is Ring is this those ...\n",
            "82    itself Ring me those those me that is were Ter...\n",
            "83    Catfish my that  Airline itself Ring Catfish R...\n",
            "Name: Description, dtype: object\n"
          ]
        }
      ],
      "source": [
        "# Part 2: Find the top 5 videos\n",
        "# In this case, we have multiple top 5:\n",
        "# Top 15 Active\n",
        "most_active = Data[(Data['199_commented'] == 1) & (Data['199_shared'] == 1) & (Data['199_liked'] == 1)]\n",
        "print(\"Number of most active videos:\", len(most_active[\"Description\"].unique()))\n",
        "print(\"==================================================\")\n",
        "print(most_active.Description)\n",
        "\n",
        "# Top 5 Length\n",
        "print(\"==================================================\")\n",
        "print(\"Top 5 Viewed Longest\")\n",
        "print(Data[Data['199_watched'] == max(Data['199_watched'])].Description)\n"
      ]
    },
    {
      "cell_type": "code",
      "source": [
        "## Preliminary: Data Cleaning\n",
        "## Step 1: Check if missing values\n",
        "import pandas as pd\n",
        "plt.rcParams[\"figure.figsize\"] = (20, 10)\n",
        "plt.imshow(Data.isnull(), cmap='hot', aspect='auto')\n",
        "plt.show()"
      ],
      "metadata": {
        "id": "IL7oRQRPksny",
        "outputId": "dd8deb10-731e-4604-9555-7bd7aa0c5499",
        "colab": {
          "base_uri": "https://localhost:8080/",
          "height": 540
        }
      },
      "execution_count": 66,
      "outputs": [
        {
          "output_type": "display_data",
          "data": {
            "text/plain": [
              "<Figure size 2000x1000 with 1 Axes>"
            ],
            "image/png": "[encoded data removed]"
          },
          "metadata": {}
        }
      ]
    },
    {
      "cell_type": "code",
      "source": [
        "## Convert String data to interpretable formats\n",
        "for feature in Data.columns:\n",
        "    if Data[feature].dtype == 'object':\n",
        "        Data[feature] = pd.Categorical(Data[feature]).codes\n",
        "    if Data[feature].dtype == 'str':\n",
        "        Data[feature] = Data[\"feature\"].str.lower()\n",
        "    if Data[feature].dtype == 'bool':\n",
        "        Data[feature] = Data[feature].astype(int)\n",
        ""
      ],
      "metadata": {
        "id": "YARc1lhMlL9n"
      },
      "execution_count": null,
      "outputs": []
    },
    {
      "cell_type": "code",
      "source": [
        "# Inputting the missing values with mean values\n",
        "Data = Data.fillna(0)\n",
        "\n",
        "## provide insight of the values after processing them\n",
        "print(\"=============== Description of Cleaned Data ======================\")\n",
        "print(Data.describe())"
      ],
      "metadata": {
        "id": "4fkAdNH7lDN6",
        "outputId": "ee8ad62d-02ea-42e6-fea2-54c6714f09b7",
        "colab": {
          "base_uri": "https://localhost:8080/"
        }
      },
      "execution_count": 70,
      "outputs": [
        {
          "output_type": "stream",
          "name": "stdout",
          "text": [
            "=============== Description of Cleaned Data ======================\n",
            "         Duration        User  Continuous_5  Continuous_6  Continuous_7  \\\n",
            "count  200.000000  200.000000    200.000000    200.000000    200.000000   \n",
            "mean    30.506252   25.080000      0.185529      0.029011     -0.281940   \n",
            "min      1.254751    0.000000     -6.335391     -5.774901     -4.455130   \n",
            "25%     15.297591   12.000000     -1.073217     -1.537438     -1.687503   \n",
            "50%     27.790061   25.000000      0.222792      0.043238     -0.479329   \n",
            "75%     44.062572   39.000000      1.496328      1.492539      1.069107   \n",
            "max     60.000000   49.000000      4.788208      5.049755      4.815366   \n",
            "std     17.239304   14.908889      1.898284      2.014770      2.016659   \n",
            "\n",
            "       Continuous_8  Continuous_9  Continuous_10  Continuous_11  \\\n",
            "count    200.000000    200.000000     200.000000     200.000000   \n",
            "mean       0.017448      0.273047      -0.270949       0.170983   \n",
            "min       -4.789660     -5.640801      -5.505664      -5.230955   \n",
            "25%       -1.291431     -0.993572      -1.634602      -1.126427   \n",
            "50%        0.136304      0.179566      -0.383381       0.209412   \n",
            "75%        1.082831      1.339413       1.264784       1.724641   \n",
            "max        4.710538      5.991268       7.347966       6.860164   \n",
            "std        1.831142      1.855679       2.175957       2.121725   \n",
            "\n",
            "       Continuous_12  ...  199_watched   199_liked  199_shared  199_commented  \\\n",
            "count     200.000000  ...   200.000000  200.000000  200.000000     200.000000   \n",
            "mean       -0.157690  ...     0.350473    0.195000    0.235000       0.135000   \n",
            "min        -4.843125  ...     0.000000    0.000000    0.000000       0.000000   \n",
            "25%        -1.530408  ...     0.000000    0.000000    0.000000       0.000000   \n",
            "50%        -0.224106  ...     0.289968    0.000000    0.000000       0.000000   \n",
            "75%         1.290944  ...     0.728856    0.000000    0.000000       0.000000   \n",
            "max         5.381594  ...     1.000000    1.000000    1.000000       1.000000   \n",
            "std         1.937502  ...     0.367175    0.397195    0.425063       0.342581   \n",
            "\n",
            "          58_seen    116_seen    140_seen    147_seen    149_seen    197_seen  \n",
            "count  200.000000  200.000000  200.000000  200.000000  200.000000  200.000000  \n",
            "mean     0.515000    0.535000    0.575000    0.555000    0.700000    0.575000  \n",
            "min      0.000000    0.000000    0.000000    0.000000    0.000000    0.000000  \n",
            "25%      0.000000    0.000000    0.000000    0.000000    0.000000    0.000000  \n",
            "50%      1.000000    1.000000    1.000000    1.000000    1.000000    1.000000  \n",
            "75%      1.000000    1.000000    1.000000    1.000000    1.000000    1.000000  \n",
            "max      1.000000    1.000000    1.000000    1.000000    1.000000    1.000000  \n",
            "std      0.501029    0.500025    0.495584    0.498213    0.459408    0.495584  \n",
            "\n",
            "[8 rows x 1031 columns]\n"
          ]
        }
      ]
    },
    {
      "cell_type": "code",
      "source": [
        "# Part 3: What covariates are correlated in the user and video datasets? Make some scatter plots.\n",
        "\n"
      ],
      "metadata": {
        "id": "ju_LHmeakcWm"
      },
      "execution_count": null,
      "outputs": []
    },
    {
      "cell_type": "markdown",
      "source": [
        "## Feature Engineering\n",
        "\n",
        "Are there any features in the datasets that would be better if converted to a different format? If so, improve them. Are there any additional features you want to add?"
      ],
      "metadata": {
        "id": "SljzxwC_gwO7"
      }
    },
    {
      "cell_type": "code",
      "source": [],
      "metadata": {
        "id": "vIMqGiNtg4m7"
      },
      "execution_count": null,
      "outputs": []
    },
    {
      "cell_type": "markdown",
      "source": [
        "## Model Choice\n",
        "\n",
        "Is this a regression or classification problem? Why?"
      ],
      "metadata": {
        "id": "Z_xw0wSOivDm"
      }
    },
    {
      "cell_type": "markdown",
      "source": [
        "## Initial Model\n",
        "\n",
        "Describe an initial model to help you solve this problem. How does it do on the validation set? What are your metrics for evaluation?"
      ],
      "metadata": {
        "id": "rfUfj0yNgJH1"
      }
    },
    {
      "cell_type": "code",
      "source": [],
      "metadata": {
        "id": "jSK5LWzygutL"
      },
      "execution_count": null,
      "outputs": []
    },
    {
      "cell_type": "markdown",
      "source": [
        "## Cross-Validation\n",
        "\n",
        "Perform cross-validation on the model by modifying a hyperparameter."
      ],
      "metadata": {
        "id": "fNazkfpKgSBY"
      }
    },
    {
      "cell_type": "code",
      "source": [],
      "metadata": {
        "id": "qkowSL3uguTP"
      },
      "execution_count": null,
      "outputs": []
    },
    {
      "cell_type": "markdown",
      "source": [
        "## Testing\n",
        "\n",
        "Test your final model on the test set, are you satisfied with its performance?"
      ],
      "metadata": {
        "id": "SdalOVbVgZ0d"
      }
    },
    {
      "cell_type": "code",
      "source": [],
      "metadata": {
        "id": "GJrhsp71gtq_"
      },
      "execution_count": null,
      "outputs": []
    },
    {
      "cell_type": "markdown",
      "source": [
        "# More to think about\n"
      ],
      "metadata": {
        "id": "6-GIPbRxhK5q"
      }
    },
    {
      "cell_type": "markdown",
      "source": [
        "\n",
        "## Modification 1: New User\n",
        "\n",
        "A new user joins the site, what are the first videos they should be shown? What if you know nothing about the user yet?\n",
        "\n"
      ],
      "metadata": {
        "id": "8D46LwiwaYAk"
      }
    },
    {
      "cell_type": "markdown",
      "source": [
        "## Modification 2: New Video\n",
        "\n",
        "A new video is added to the site, and some of the users have had a chance to engage with the video. How would you update your algorithm?"
      ],
      "metadata": {
        "id": "Co36HdNMagIh"
      }
    },
    {
      "cell_type": "markdown",
      "source": [
        "## Modification 3: Many Users, Many Videos\n",
        "\n",
        "The test dataset you received is somewhat small, but FlipFlop wants to be the most popular website on Earth! They ask you to modify your algorithm to scale to at least 1 billion users! What do you do?"
      ],
      "metadata": {
        "id": "EsaJrrkZa0Wc"
      }
    }
  ]
}